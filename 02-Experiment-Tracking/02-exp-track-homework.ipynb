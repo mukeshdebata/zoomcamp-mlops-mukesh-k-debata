{
 "cells": [
  {
   "cell_type": "markdown",
   "id": "120bd32f",
   "metadata": {},
   "source": [
    "##Q1.Install MLflow"
   ]
  },
  {
   "cell_type": "code",
   "execution_count": 16,
   "id": "1a5c2f88",
   "metadata": {},
   "outputs": [
    {
     "name": "stdout",
     "output_type": "stream",
     "text": [
      "mlflow, version 3.1.0\n"
     ]
    }
   ],
   "source": [
    "!mlflow --version"
   ]
  },
  {
   "cell_type": "markdown",
   "id": "d1fcc1ba",
   "metadata": {},
   "source": [
    "## Q2. Download and preprocess the data"
   ]
  },
  {
   "cell_type": "code",
   "execution_count": 17,
   "id": "20716794",
   "metadata": {},
   "outputs": [],
   "source": [
    "# downloading the data from --> https://www.nyc.gov/site/tlc/about/tlc-trip-record-data.page\n",
    "!python ./preprocess_data.py --raw_data_path /workspaces/zoomcamp-mlops-mukesh-k-debata/02-Experiment-Tracking/TAXI_DATA_FOLDER --dest_path ./output"
   ]
  },
  {
   "cell_type": "code",
   "execution_count": 18,
   "id": "ac427cb4",
   "metadata": {},
   "outputs": [
    {
     "name": "stdout",
     "output_type": "stream",
     "text": [
      "total 7016\n",
      "-rw-rw-rw- 1 codespace codespace  131004 Jun 26 05:48 dv.pkl\n",
      "-rw-rw-rw- 1 codespace codespace 2374518 Jun 26 05:48 train.pkl\n",
      "-rw-rw-rw- 1 codespace codespace 2215824 Jun 26 05:48 val.pkl\n",
      "-rw-rw-rw- 1 codespace codespace 2458698 Jun 26 05:48 test.pkl\n"
     ]
    }
   ],
   "source": [
    "!ls -lrt /workspaces/zoomcamp-mlops-mukesh-k-debata/02-Experiment-Tracking/output"
   ]
  },
  {
   "cell_type": "markdown",
   "id": "335a3e66",
   "metadata": {},
   "source": [
    "##Q3. Train a model with autolog"
   ]
  },
  {
   "cell_type": "code",
   "execution_count": null,
   "id": "85d1cce7",
   "metadata": {},
   "outputs": [],
   "source": [
    "!pwd"
   ]
  },
  {
   "cell_type": "code",
   "execution_count": 19,
   "id": "01bbf798",
   "metadata": {},
   "outputs": [
    {
     "name": "stdout",
     "output_type": "stream",
     "text": [
      "2025/06/26 05:48:43 INFO mlflow.store.db.utils: Creating initial MLflow database tables...\n",
      "2025/06/26 05:48:43 INFO mlflow.store.db.utils: Updating database tables\n",
      "INFO  [alembic.runtime.migration] Context impl SQLiteImpl.\n",
      "INFO  [alembic.runtime.migration] Will assume non-transactional DDL.\n",
      "INFO  [alembic.runtime.migration] Context impl SQLiteImpl.\n",
      "INFO  [alembic.runtime.migration] Will assume non-transactional DDL.\n"
     ]
    }
   ],
   "source": [
    "!python train.py"
   ]
  },
  {
   "cell_type": "markdown",
   "id": "43ce51fc",
   "metadata": {},
   "source": [
    "##Value of  the min_samples_split is 2"
   ]
  },
  {
   "cell_type": "markdown",
   "id": "7afb2f91",
   "metadata": {},
   "source": [
    "![alt text](image.png)"
   ]
  },
  {
   "cell_type": "markdown",
   "id": "2b4a35d7",
   "metadata": {},
   "source": [
    "#Q4. Launch the tracking server locally\n",
    "\n",
    "Its in default-artifact-root"
   ]
  },
  {
   "cell_type": "markdown",
   "id": "e89c0156",
   "metadata": {},
   "source": [
    "![alt text](image-1.png)"
   ]
  },
  {
   "cell_type": "markdown",
   "id": "d1f3347e",
   "metadata": {},
   "source": [
    "#Q5. Tune model hyperparameters"
   ]
  },
  {
   "cell_type": "code",
   "execution_count": 21,
   "id": "8240f7d0",
   "metadata": {},
   "outputs": [
    {
     "name": "stdout",
     "output_type": "stream",
     "text": [
      "1.6.1\n"
     ]
    }
   ],
   "source": [
    "import sklearn\n",
    "print(sklearn.__version__)"
   ]
  },
  {
   "cell_type": "code",
   "execution_count": 22,
   "id": "2c9e7b2f",
   "metadata": {},
   "outputs": [
    {
     "name": "stdout",
     "output_type": "stream",
     "text": [
      "2025/06/26 06:02:54 INFO mlflow.tracking.fluent: Experiment with name 'random-forest-hyperopt' does not exist. Creating a new experiment.\n",
      "🏃 View run gentle-perch-714 at: http://127.0.0.1:5000/#/experiments/2/runs/b4b6f60564284ad3b3feaf3d8a848155\n",
      "\n",
      "🧪 View experiment at: http://127.0.0.1:5000/#/experiments/2                    \n",
      "\n",
      "🏃 View run lyrical-stoat-894 at: http://127.0.0.1:5000/#/experiments/2/runs/f961d614836b453090adf6c57bf9def6\n",
      "\n",
      "🧪 View experiment at: http://127.0.0.1:5000/#/experiments/2                    \n",
      "\n",
      "🏃 View run kindly-perch-146 at: http://127.0.0.1:5000/#/experiments/2/runs/d4a528eb99f942688bee06c91c58be02\n",
      "\n",
      "🧪 View experiment at: http://127.0.0.1:5000/#/experiments/2                    \n",
      "\n",
      "🏃 View run funny-elk-745 at: http://127.0.0.1:5000/#/experiments/2/runs/5e28b7e3a2ff4e38bed946b9da93bc45\n",
      "\n",
      "🧪 View experiment at: http://127.0.0.1:5000/#/experiments/2                    \n",
      "\n",
      "🏃 View run clean-dove-315 at: http://127.0.0.1:5000/#/experiments/2/runs/92532e81468f431fafb91e95cee3b4a9\n",
      "\n",
      "🧪 View experiment at: http://127.0.0.1:5000/#/experiments/2                    \n",
      "\n",
      "🏃 View run calm-cod-704 at: http://127.0.0.1:5000/#/experiments/2/runs/0f957dbaef744c328b7ee562a38f4f97\n",
      "\n",
      "🧪 View experiment at: http://127.0.0.1:5000/#/experiments/2                    \n",
      "\n",
      "🏃 View run righteous-hare-11 at: http://127.0.0.1:5000/#/experiments/2/runs/dbb11214879d429aa62aeb111c077cee\n",
      "\n",
      "🧪 View experiment at: http://127.0.0.1:5000/#/experiments/2                    \n",
      "\n",
      "🏃 View run bemused-skink-695 at: http://127.0.0.1:5000/#/experiments/2/runs/51a80576fd6a423296b5713e5ec9867a\n",
      "\n",
      "🧪 View experiment at: http://127.0.0.1:5000/#/experiments/2                    \n",
      "\n",
      "🏃 View run unique-ox-557 at: http://127.0.0.1:5000/#/experiments/2/runs/4ca1615dbe514134b6550131dfa5e96c\n",
      "\n",
      "🧪 View experiment at: http://127.0.0.1:5000/#/experiments/2                    \n",
      "\n",
      "🏃 View run skittish-trout-76 at: http://127.0.0.1:5000/#/experiments/2/runs/c81a394d7062456e95c81ec26bc9ce12\n",
      "\n",
      "🧪 View experiment at: http://127.0.0.1:5000/#/experiments/2                    \n",
      "\n",
      "🏃 View run bustling-moose-448 at: http://127.0.0.1:5000/#/experiments/2/runs/a5cb0938b414450c8f6f5f6f5122d2f0\n",
      "\n",
      "🧪 View experiment at: http://127.0.0.1:5000/#/experiments/2                    \n",
      "\n",
      "🏃 View run painted-toad-886 at: http://127.0.0.1:5000/#/experiments/2/runs/1466b217c932410ba37de77ab7f633d1\n",
      "\n",
      "🧪 View experiment at: http://127.0.0.1:5000/#/experiments/2                    \n",
      "\n",
      "🏃 View run mercurial-jay-412 at: http://127.0.0.1:5000/#/experiments/2/runs/65667ad720c243f7a6b0948e82a11534\n",
      "\n",
      "🧪 View experiment at: http://127.0.0.1:5000/#/experiments/2                    \n",
      "\n",
      "🏃 View run calm-lark-843 at: http://127.0.0.1:5000/#/experiments/2/runs/f1c3bd6762c947458e21b37a8fb8f9e7\n",
      "\n",
      "🧪 View experiment at: http://127.0.0.1:5000/#/experiments/2                    \n",
      "\n",
      "🏃 View run flawless-doe-375 at: http://127.0.0.1:5000/#/experiments/2/runs/51c53c64ab5b402ea25197197aa9cebe\n",
      "\n",
      "🧪 View experiment at: http://127.0.0.1:5000/#/experiments/2                    \n",
      "\n",
      "100%|██████████| 15/15 [01:04<00:00,  4.33s/trial, best loss: 5.335419588556921]\n"
     ]
    }
   ],
   "source": [
    "!python hpo.py"
   ]
  },
  {
   "cell_type": "markdown",
   "id": "ddc5bcfd",
   "metadata": {},
   "source": [
    "#The answer is 5.335"
   ]
  },
  {
   "cell_type": "markdown",
   "id": "e17911ca",
   "metadata": {},
   "source": [
    "![alt text](image-2.png)"
   ]
  },
  {
   "cell_type": "markdown",
   "id": "17722030",
   "metadata": {},
   "source": [
    "#Q6. Promote the best model to the model registry\n",
    "\n",
    "#Answer is 5.567"
   ]
  },
  {
   "cell_type": "code",
   "execution_count": 38,
   "id": "d3ab992b",
   "metadata": {},
   "outputs": [
    {
     "name": "stdout",
     "output_type": "stream",
     "text": [
      "Experiment 'random-forest-best-models' has been restored.\n",
      "Training model with parameters from run a5cb0938b414450c8f6f5f6f5122d2f0\n"
     ]
    }
   ],
   "source": [
    "!python register_model.py"
   ]
  },
  {
   "cell_type": "markdown",
   "id": "5af1eab4",
   "metadata": {},
   "source": [
    "![alt text](image-3.png)"
   ]
  }
 ],
 "metadata": {
  "kernelspec": {
   "display_name": "Python 3",
   "language": "python",
   "name": "python3"
  },
  "language_info": {
   "codemirror_mode": {
    "name": "ipython",
    "version": 3
   },
   "file_extension": ".py",
   "mimetype": "text/x-python",
   "name": "python",
   "nbconvert_exporter": "python",
   "pygments_lexer": "ipython3",
   "version": "3.9.23"
  }
 },
 "nbformat": 4,
 "nbformat_minor": 5
}
