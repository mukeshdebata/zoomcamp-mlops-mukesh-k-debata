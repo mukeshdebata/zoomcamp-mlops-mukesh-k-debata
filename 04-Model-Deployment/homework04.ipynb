{
 "cells": [
  {
   "cell_type": "markdown",
   "id": "f4899836",
   "metadata": {},
   "source": [
    "# Homework04"
   ]
  },
  {
   "cell_type": "code",
   "execution_count": 1,
   "id": "0ef880a0",
   "metadata": {},
   "outputs": [],
   "source": [
    "import pickle\n",
    "import pandas as pd\n",
    "import warnings\n",
    "import os\n",
    "\n",
    "warnings.filterwarnings(\"ignore\")"
   ]
  },
  {
   "cell_type": "code",
   "execution_count": 2,
   "id": "7836ccfd",
   "metadata": {},
   "outputs": [],
   "source": [
    "with open(\"model.bin\", \"rb\") as f_in:\n",
    "    dv, model = pickle.load(f_in)"
   ]
  },
  {
   "cell_type": "code",
   "execution_count": 3,
   "id": "41c08294",
   "metadata": {},
   "outputs": [],
   "source": [
    "categorical = [\"PULocationID\", \"DOLocationID\"]\n",
    "\n",
    "\n",
    "def read_data(filename):\n",
    "    df = pd.read_parquet(filename)\n",
    "\n",
    "    df[\"duration\"] = df.tpep_dropoff_datetime - df.tpep_pickup_datetime\n",
    "    df[\"duration\"] = df.duration.dt.total_seconds() / 60\n",
    "\n",
    "    df = df[(df.duration >= 1) & (df.duration <= 60)].copy()\n",
    "\n",
    "    df[categorical] = df[categorical].fillna(-1).astype(\"int\").astype(\"str\")\n",
    "\n",
    "    return df\n",
    "\n",
    "\n",
    "df = read_data(\n",
    "    \"https://d37ci6vzurychx.cloudfront.net/trip-data/yellow_tripdata_2023-03.parquet\"\n",
    ")\n",
    "\n",
    "dicts = df[categorical].to_dict(orient=\"records\")\n",
    "X_val = dv.transform(dicts)\n",
    "y_pred = model.predict(X_val)"
   ]
  },
  {
   "cell_type": "markdown",
   "id": "cbc0df3d",
   "metadata": {},
   "source": [
    "## Q1. Notebook What's the standard deviation of the predicted duration for this dataset?"
   ]
  },
  {
   "cell_type": "code",
   "execution_count": 24,
   "id": "9ade7b25",
   "metadata": {},
   "outputs": [
    {
     "name": "stdout",
     "output_type": "stream",
     "text": [
      "The stardard deviation of the predictions is:  6.247\n"
     ]
    }
   ],
   "source": [
    "print(\"The stardard deviation of the predictions is: \", round(y_pred.std(), 3))"
   ]
  },
  {
   "cell_type": "markdown",
   "id": "f4685920",
   "metadata": {},
   "source": [
    "## Q2 Preparing the output"
   ]
  },
  {
   "cell_type": "code",
   "execution_count": 25,
   "id": "de578497",
   "metadata": {},
   "outputs": [],
   "source": [
    "df[\"ride_id\"] = (\n",
    "    df[\"tpep_pickup_datetime\"].dt.year.astype(str).str.zfill(4)\n",
    "    + \"/\"\n",
    "    + df[\"tpep_pickup_datetime\"].dt.month.astype(str).str.zfill(2)\n",
    "    + \"_\"\n",
    "    + df.index.astype(str)\n",
    ")\n",
    "\n",
    "df_result = df[[\"ride_id\"]].copy()\n",
    "df_result[\"duration\"] = y_pred\n",
    "\n",
    "os.makedirs(\"output\", exist_ok=True)\n",
    "output_file = \"output/result.parquet\"\n",
    "df_result.to_parquet(output_file, engine=\"pyarrow\", compression=None, index=False)"
   ]
  },
  {
   "cell_type": "code",
   "execution_count": 26,
   "id": "861ad13e",
   "metadata": {},
   "outputs": [
    {
     "name": "stdout",
     "output_type": "stream",
     "text": [
      "The output file size: 68,641,739 bytes (65.46 MB)\n"
     ]
    }
   ],
   "source": [
    "size_bytes = os.path.getsize(output_file)\n",
    "size_mb = size_bytes / (1024 * 1024)\n",
    "\n",
    "print(f\"The output file size: {size_bytes:,} bytes ({size_mb:.2f} MB)\")"
   ]
  },
  {
   "cell_type": "markdown",
   "id": "1858b65b",
   "metadata": {},
   "source": [
    "## Q3 Creating the scoring script"
   ]
  },
  {
   "cell_type": "code",
   "execution_count": 27,
   "id": "393cb63d",
   "metadata": {},
   "outputs": [
    {
     "name": "stdout",
     "output_type": "stream",
     "text": [
      "[NbConvertApp] Converting notebook homework04.ipynb to script\n",
      "[NbConvertApp] Writing 6331 bytes to scoring.py\n"
     ]
    }
   ],
   "source": [
    "!jupyter nbconvert --to script homework04.ipynb --output scoring"
   ]
  },
  {
   "cell_type": "code",
   "execution_count": 28,
   "id": "501346a3",
   "metadata": {},
   "outputs": [
    {
     "name": "stdout",
     "output_type": "stream",
     "text": [
      "/workspaces/zoomcamp-mlops-mukesh-k-debata/04-deployment\n"
     ]
    }
   ],
   "source": [
    "!pwd"
   ]
  },
  {
   "cell_type": "markdown",
   "id": "68689f0b",
   "metadata": {},
   "source": [
    "## Q4. Virtual environment"
   ]
  },
  {
   "cell_type": "code",
   "execution_count": 29,
   "id": "ae053c4d",
   "metadata": {},
   "outputs": [
    {
     "name": "stdout",
     "output_type": "stream",
     "text": [
      "sdist = { url = \"https://files.pythonhosted.org/packages/2c/22/a2d2fa7d142959720a3c5b5ffcd914be9fe02e299734ddd21c293a797981/mlflow-2.22.0.tar.gz\", hash = \"sha256:5b8780a8407c1b2ad441a13054f33ed0a0a58df4a69ddada2e30321d287e4f87\", size = 28375641, upload-time = \"2025-04-24T09:11:44.059Z\" }\n"
     ]
    }
   ],
   "source": [
    "# Find the hash of scikit-learn in the uv.lock file\n",
    "# using uv has my environment\n",
    "\n",
    "with open(\"../uv.lock\", \"r\") as f:\n",
    "    lines = f.readlines()\n",
    "\n",
    "scikit_learn_found = False\n",
    "for i, line in enumerate(lines):\n",
    "    if \"scikit-learn\" in line:\n",
    "        scikit_learn_found = True\n",
    "        # Look for hash in nearby lines\n",
    "        for j in range(i, min(i + 10, len(lines))):\n",
    "            if \"hash\" in lines[j]:\n",
    "                print(lines[j].strip())\n",
    "                break\n",
    "        if scikit_learn_found:\n",
    "            break"
   ]
  },
  {
   "cell_type": "markdown",
   "id": "69059f94",
   "metadata": {},
   "source": [
    "## Q5 Parametrize the script"
   ]
  },
  {
   "cell_type": "code",
   "execution_count": 6,
   "id": "9cd89527",
   "metadata": {},
   "outputs": [
    {
     "name": "stdout",
     "output_type": "stream",
     "text": [
      "The mean predicted duration is 14.292 minutes\n"
     ]
    }
   ],
   "source": [
    "!python src/scoring.py 2023 04"
   ]
  },
  {
   "cell_type": "markdown",
   "id": "ef85cbfa",
   "metadata": {},
   "source": [
    "## Q6 Docker container"
   ]
  },
  {
   "cell_type": "code",
   "execution_count": 7,
   "id": "76692f81",
   "metadata": {},
   "outputs": [
    {
     "name": "stdout",
     "output_type": "stream",
     "text": [
      "\n",
      "Dockerfile content:\n",
      "\n",
      "FROM agrigorev/zoomcamp-model:mlops-2024-3.10.13-slim\n",
      "\n",
      "# Install uv as the Python package manager\n",
      "RUN pip install -U pip\n",
      "RUN pip install uv\n",
      "\n",
      "WORKDIR /app\n",
      "\n",
      "COPY [\"requirements.txt\", \"./\"]\n",
      "\n",
      "# Use uv to install dependencies with --system flag for global installation\n",
      "RUN uv pip install --system -r requirements.txt\n",
      "\n",
      "COPY [\"src/scoring.py\", \"./\"]\n",
      "\n",
      "RUN mkdir -p output\n",
      "\n",
      "CMD [\"python\", \"scoring.py\", \"2023\", \"03\"]\n"
     ]
    }
   ],
   "source": [
    "# Dockerfile with uv\n",
    "with open(\"Dockerfile\", \"r\") as f:\n",
    "    dockerfile_content = f.read()\n",
    "print(\"\\nDockerfile content:\\n\")\n",
    "print(dockerfile_content)"
   ]
  },
  {
   "cell_type": "code",
   "execution_count": 8,
   "id": "0f0339b8",
   "metadata": {},
   "outputs": [
    {
     "name": "stdout",
     "output_type": "stream",
     "text": [
      "\u001b[1A\u001b[1B\u001b[0G\u001b[?25l[+] Building 0.0s (0/1)                                          docker:default\n",
      "\u001b[?25h\u001b[1A\u001b[0G\u001b[?25l[+] Building 0.2s (1/2)                                          docker:default\n",
      "\u001b[34m => [internal] load build definition from Dockerfile                       0.0s\n",
      "\u001b[0m\u001b[34m => => transferring dockerfile: 446B                                       0.0s\n",
      "\u001b[0m => [internal] load metadata for docker.io/agrigorev/zoomcamp-model:mlops  0.2s\n",
      "\u001b[?25h\u001b[1A\u001b[1A\u001b[1A\u001b[1A\u001b[0G\u001b[?25l[+] Building 0.3s (1/2)                                          docker:default\n",
      "\u001b[34m => [internal] load build definition from Dockerfile                       0.0s\n",
      "\u001b[0m\u001b[34m => => transferring dockerfile: 446B                                       0.0s\n",
      "\u001b[0m => [internal] load metadata for docker.io/agrigorev/zoomcamp-model:mlops  0.3s\n",
      "\u001b[?25h\u001b[1A\u001b[1A\u001b[1A\u001b[1A\u001b[0G\u001b[?25l[+] Building 0.5s (1/2)                                          docker:default\n",
      "\u001b[34m => [internal] load build definition from Dockerfile                       0.0s\n",
      "\u001b[0m\u001b[34m => => transferring dockerfile: 446B                                       0.0s\n",
      "\u001b[0m => [internal] load metadata for docker.io/agrigorev/zoomcamp-model:mlops  0.5s\n",
      "\u001b[?25h\u001b[1A\u001b[1A\u001b[1A\u001b[1A\u001b[0G\u001b[?25l[+] Building 0.6s (1/2)                                          docker:default\n",
      "\u001b[34m => [internal] load build definition from Dockerfile                       0.0s\n",
      "\u001b[0m\u001b[34m => => transferring dockerfile: 446B                                       0.0s\n",
      "\u001b[0m => [internal] load metadata for docker.io/agrigorev/zoomcamp-model:mlops  0.6s\n",
      "\u001b[?25h\u001b[1A\u001b[1A\u001b[1A\u001b[1A\u001b[0G\u001b[?25l[+] Building 0.8s (1/2)                                          docker:default\n",
      "\u001b[34m => [internal] load build definition from Dockerfile                       0.0s\n",
      "\u001b[0m\u001b[34m => => transferring dockerfile: 446B                                       0.0s\n",
      "\u001b[0m => [internal] load metadata for docker.io/agrigorev/zoomcamp-model:mlops  0.8s\n",
      "\u001b[?25h\u001b[1A\u001b[1A\u001b[1A\u001b[1A\u001b[0G\u001b[?25l[+] Building 0.8s (2/2)                                          docker:default\n",
      "\u001b[34m => [internal] load build definition from Dockerfile                       0.0s\n",
      "\u001b[0m\u001b[34m => => transferring dockerfile: 446B                                       0.0s\n",
      "\u001b[0m\u001b[34m => [internal] load metadata for docker.io/agrigorev/zoomcamp-model:mlops  0.8s\n",
      "\u001b[0m\u001b[?25h\u001b[1A\u001b[1A\u001b[1A\u001b[1A\u001b[0G\u001b[?25l[+] Building 1.0s (11/12)                                        docker:default\n",
      "\u001b[34m => [internal] load build definition from Dockerfile                       0.0s\n",
      "\u001b[0m\u001b[34m => => transferring dockerfile: 446B                                       0.0s\n",
      "\u001b[0m\u001b[34m => [internal] load metadata for docker.io/agrigorev/zoomcamp-model:mlops  0.8s\n",
      "\u001b[0m\u001b[34m => [internal] load .dockerignore                                          0.0s\n",
      "\u001b[0m\u001b[34m => => transferring context: 2B                                            0.0s\n",
      "\u001b[0m\u001b[34m => [1/8] FROM docker.io/agrigorev/zoomcamp-model:mlops-2024-3.10.13-slim  0.0s\n",
      "\u001b[0m\u001b[34m => [internal] load build context                                          0.0s\n",
      "\u001b[0m\u001b[34m => => transferring context: 1.90kB                                        0.0s\n",
      "\u001b[0m\u001b[34m => CACHED [2/8] RUN pip install -U pip                                    0.0s\n",
      "\u001b[0m\u001b[34m => CACHED [3/8] RUN pip install uv                                        0.0s\n",
      "\u001b[0m\u001b[34m => CACHED [4/8] WORKDIR /app                                              0.0s\n",
      "\u001b[0m\u001b[34m => CACHED [5/8] COPY [requirements.txt, ./]                               0.0s\n",
      "\u001b[0m\u001b[34m => CACHED [6/8] RUN uv pip install --system -r requirements.txt           0.0s\n",
      "\u001b[0m\u001b[34m => [7/8] COPY [src/scoring.py, ./]                                        0.0s\n",
      "\u001b[0m => [8/8] RUN mkdir -p output                                              0.2s\n",
      "\u001b[?25h\u001b[1A\u001b[1A\u001b[1A\u001b[1A\u001b[1A\u001b[1A\u001b[1A\u001b[1A\u001b[1A\u001b[1A\u001b[1A\u001b[1A\u001b[1A\u001b[1A\u001b[1A\u001b[1A\u001b[0G\u001b[?25l[+] Building 1.1s (11/12)                                        docker:default\n",
      "\u001b[34m => [internal] load build definition from Dockerfile                       0.0s\n",
      "\u001b[0m\u001b[34m => => transferring dockerfile: 446B                                       0.0s\n",
      "\u001b[0m\u001b[34m => [internal] load metadata for docker.io/agrigorev/zoomcamp-model:mlops  0.8s\n",
      "\u001b[0m\u001b[34m => [internal] load .dockerignore                                          0.0s\n",
      "\u001b[0m\u001b[34m => => transferring context: 2B                                            0.0s\n",
      "\u001b[0m\u001b[34m => [1/8] FROM docker.io/agrigorev/zoomcamp-model:mlops-2024-3.10.13-slim  0.0s\n",
      "\u001b[0m\u001b[34m => [internal] load build context                                          0.0s\n",
      "\u001b[0m\u001b[34m => => transferring context: 1.90kB                                        0.0s\n",
      "\u001b[0m\u001b[34m => CACHED [2/8] RUN pip install -U pip                                    0.0s\n",
      "\u001b[0m\u001b[34m => CACHED [3/8] RUN pip install uv                                        0.0s\n",
      "\u001b[0m\u001b[34m => CACHED [4/8] WORKDIR /app                                              0.0s\n",
      "\u001b[0m\u001b[34m => CACHED [5/8] COPY [requirements.txt, ./]                               0.0s\n",
      "\u001b[0m\u001b[34m => CACHED [6/8] RUN uv pip install --system -r requirements.txt           0.0s\n",
      "\u001b[0m\u001b[34m => [7/8] COPY [src/scoring.py, ./]                                        0.0s\n",
      "\u001b[0m => [8/8] RUN mkdir -p output                                              0.3s\n",
      "\u001b[?25h\u001b[1A\u001b[1A\u001b[1A\u001b[1A\u001b[1A\u001b[1A\u001b[1A\u001b[1A\u001b[1A\u001b[1A\u001b[1A\u001b[1A\u001b[1A\u001b[1A\u001b[1A\u001b[1A\u001b[0G\u001b[?25l[+] Building 1.1s (12/12)                                        docker:default\n",
      "\u001b[34m => [internal] load build definition from Dockerfile                       0.0s\n",
      "\u001b[0m\u001b[34m => => transferring dockerfile: 446B                                       0.0s\n",
      "\u001b[0m\u001b[34m => [internal] load metadata for docker.io/agrigorev/zoomcamp-model:mlops  0.8s\n",
      "\u001b[0m\u001b[34m => [internal] load .dockerignore                                          0.0s\n",
      "\u001b[0m\u001b[34m => => transferring context: 2B                                            0.0s\n",
      "\u001b[0m\u001b[34m => [1/8] FROM docker.io/agrigorev/zoomcamp-model:mlops-2024-3.10.13-slim  0.0s\n",
      "\u001b[0m\u001b[34m => [internal] load build context                                          0.0s\n",
      "\u001b[0m\u001b[34m => => transferring context: 1.90kB                                        0.0s\n",
      "\u001b[0m\u001b[34m => CACHED [2/8] RUN pip install -U pip                                    0.0s\n",
      "\u001b[0m\u001b[34m => CACHED [3/8] RUN pip install uv                                        0.0s\n",
      "\u001b[0m\u001b[34m => CACHED [4/8] WORKDIR /app                                              0.0s\n",
      "\u001b[0m\u001b[34m => CACHED [5/8] COPY [requirements.txt, ./]                               0.0s\n",
      "\u001b[0m\u001b[34m => CACHED [6/8] RUN uv pip install --system -r requirements.txt           0.0s\n",
      "\u001b[0m\u001b[34m => [7/8] COPY [src/scoring.py, ./]                                        0.0s\n",
      "\u001b[0m\u001b[34m => [8/8] RUN mkdir -p output                                              0.3s\n",
      "\u001b[0m\u001b[?25h\u001b[1A\u001b[1A\u001b[1A\u001b[1A\u001b[1A\u001b[1A\u001b[1A\u001b[1A\u001b[1A\u001b[1A\u001b[1A\u001b[1A\u001b[1A\u001b[1A\u001b[1A\u001b[1A\u001b[0G\u001b[?25l[+] Building 1.3s (12/13)                                        docker:default\n",
      "\u001b[34m => [internal] load build definition from Dockerfile                       0.0s\n",
      "\u001b[0m\u001b[34m => => transferring dockerfile: 446B                                       0.0s\n",
      "\u001b[0m\u001b[34m => [internal] load metadata for docker.io/agrigorev/zoomcamp-model:mlops  0.8s\n",
      "\u001b[0m\u001b[34m => [internal] load .dockerignore                                          0.0s\n",
      "\u001b[0m\u001b[34m => => transferring context: 2B                                            0.0s\n",
      "\u001b[0m\u001b[34m => [1/8] FROM docker.io/agrigorev/zoomcamp-model:mlops-2024-3.10.13-slim  0.0s\n",
      "\u001b[0m\u001b[34m => [internal] load build context                                          0.0s\n",
      "\u001b[0m\u001b[34m => => transferring context: 1.90kB                                        0.0s\n",
      "\u001b[0m\u001b[34m => CACHED [2/8] RUN pip install -U pip                                    0.0s\n",
      "\u001b[0m\u001b[34m => CACHED [3/8] RUN pip install uv                                        0.0s\n",
      "\u001b[0m\u001b[34m => CACHED [4/8] WORKDIR /app                                              0.0s\n",
      "\u001b[0m\u001b[34m => CACHED [5/8] COPY [requirements.txt, ./]                               0.0s\n",
      "\u001b[0m\u001b[34m => CACHED [6/8] RUN uv pip install --system -r requirements.txt           0.0s\n",
      "\u001b[0m\u001b[34m => [7/8] COPY [src/scoring.py, ./]                                        0.0s\n",
      "\u001b[0m\u001b[34m => [8/8] RUN mkdir -p output                                              0.3s\n",
      "\u001b[0m => exporting to image                                                     0.2s\n",
      " => => exporting layers                                                    0.2s\n",
      "\u001b[?25h\u001b[1A\u001b[1A\u001b[1A\u001b[1A\u001b[1A\u001b[1A\u001b[1A\u001b[1A\u001b[1A\u001b[1A\u001b[1A\u001b[1A\u001b[1A\u001b[1A\u001b[1A\u001b[1A\u001b[1A\u001b[1A\u001b[0G\u001b[?25l[+] Building 1.4s (12/13)                                        docker:default\n",
      "\u001b[34m => [internal] load build definition from Dockerfile                       0.0s\n",
      "\u001b[0m\u001b[34m => => transferring dockerfile: 446B                                       0.0s\n",
      "\u001b[0m\u001b[34m => [internal] load metadata for docker.io/agrigorev/zoomcamp-model:mlops  0.8s\n",
      "\u001b[0m\u001b[34m => [internal] load .dockerignore                                          0.0s\n",
      "\u001b[0m\u001b[34m => => transferring context: 2B                                            0.0s\n",
      "\u001b[0m\u001b[34m => [1/8] FROM docker.io/agrigorev/zoomcamp-model:mlops-2024-3.10.13-slim  0.0s\n",
      "\u001b[0m\u001b[34m => [internal] load build context                                          0.0s\n",
      "\u001b[0m\u001b[34m => => transferring context: 1.90kB                                        0.0s\n",
      "\u001b[0m\u001b[34m => CACHED [2/8] RUN pip install -U pip                                    0.0s\n",
      "\u001b[0m\u001b[34m => CACHED [3/8] RUN pip install uv                                        0.0s\n",
      "\u001b[0m\u001b[34m => CACHED [4/8] WORKDIR /app                                              0.0s\n",
      "\u001b[0m\u001b[34m => CACHED [5/8] COPY [requirements.txt, ./]                               0.0s\n",
      "\u001b[0m\u001b[34m => CACHED [6/8] RUN uv pip install --system -r requirements.txt           0.0s\n",
      "\u001b[0m\u001b[34m => [7/8] COPY [src/scoring.py, ./]                                        0.0s\n",
      "\u001b[0m\u001b[34m => [8/8] RUN mkdir -p output                                              0.3s\n",
      "\u001b[0m => exporting to image                                                     0.3s\n",
      " => => exporting layers                                                    0.3s\n",
      "\u001b[?25h\u001b[1A\u001b[1A\u001b[1A\u001b[1A\u001b[1A\u001b[1A\u001b[1A\u001b[1A\u001b[1A\u001b[1A\u001b[1A\u001b[1A\u001b[1A\u001b[1A\u001b[1A\u001b[1A\u001b[1A\u001b[1A\u001b[0G\u001b[?25l[+] Building 1.6s (12/13)                                        docker:default\n",
      "\u001b[34m => [internal] load build definition from Dockerfile                       0.0s\n",
      "\u001b[0m\u001b[34m => => transferring dockerfile: 446B                                       0.0s\n",
      "\u001b[0m\u001b[34m => [internal] load metadata for docker.io/agrigorev/zoomcamp-model:mlops  0.8s\n",
      "\u001b[0m\u001b[34m => [internal] load .dockerignore                                          0.0s\n",
      "\u001b[0m\u001b[34m => => transferring context: 2B                                            0.0s\n",
      "\u001b[0m\u001b[34m => [1/8] FROM docker.io/agrigorev/zoomcamp-model:mlops-2024-3.10.13-slim  0.0s\n",
      "\u001b[0m\u001b[34m => [internal] load build context                                          0.0s\n",
      "\u001b[0m\u001b[34m => => transferring context: 1.90kB                                        0.0s\n",
      "\u001b[0m\u001b[34m => CACHED [2/8] RUN pip install -U pip                                    0.0s\n",
      "\u001b[0m\u001b[34m => CACHED [3/8] RUN pip install uv                                        0.0s\n",
      "\u001b[0m\u001b[34m => CACHED [4/8] WORKDIR /app                                              0.0s\n",
      "\u001b[0m\u001b[34m => CACHED [5/8] COPY [requirements.txt, ./]                               0.0s\n",
      "\u001b[0m\u001b[34m => CACHED [6/8] RUN uv pip install --system -r requirements.txt           0.0s\n",
      "\u001b[0m\u001b[34m => [7/8] COPY [src/scoring.py, ./]                                        0.0s\n",
      "\u001b[0m\u001b[34m => [8/8] RUN mkdir -p output                                              0.3s\n",
      "\u001b[0m => exporting to image                                                     0.5s\n",
      " => => exporting layers                                                    0.5s\n",
      "\u001b[?25h\u001b[1A\u001b[1A\u001b[1A\u001b[1A\u001b[1A\u001b[1A\u001b[1A\u001b[1A\u001b[1A\u001b[1A\u001b[1A\u001b[1A\u001b[1A\u001b[1A\u001b[1A\u001b[1A\u001b[1A\u001b[1A\u001b[0G\u001b[?25l[+] Building 1.7s (12/13)                                        docker:default\n",
      "\u001b[34m => [internal] load build definition from Dockerfile                       0.0s\n",
      "\u001b[0m\u001b[34m => => transferring dockerfile: 446B                                       0.0s\n",
      "\u001b[0m\u001b[34m => [internal] load metadata for docker.io/agrigorev/zoomcamp-model:mlops  0.8s\n",
      "\u001b[0m\u001b[34m => [internal] load .dockerignore                                          0.0s\n",
      "\u001b[0m\u001b[34m => => transferring context: 2B                                            0.0s\n",
      "\u001b[0m\u001b[34m => [1/8] FROM docker.io/agrigorev/zoomcamp-model:mlops-2024-3.10.13-slim  0.0s\n",
      "\u001b[0m\u001b[34m => [internal] load build context                                          0.0s\n",
      "\u001b[0m\u001b[34m => => transferring context: 1.90kB                                        0.0s\n",
      "\u001b[0m\u001b[34m => CACHED [2/8] RUN pip install -U pip                                    0.0s\n",
      "\u001b[0m\u001b[34m => CACHED [3/8] RUN pip install uv                                        0.0s\n",
      "\u001b[0m\u001b[34m => CACHED [4/8] WORKDIR /app                                              0.0s\n",
      "\u001b[0m\u001b[34m => CACHED [5/8] COPY [requirements.txt, ./]                               0.0s\n",
      "\u001b[0m\u001b[34m => CACHED [6/8] RUN uv pip install --system -r requirements.txt           0.0s\n",
      "\u001b[0m\u001b[34m => [7/8] COPY [src/scoring.py, ./]                                        0.0s\n",
      "\u001b[0m\u001b[34m => [8/8] RUN mkdir -p output                                              0.3s\n",
      "\u001b[0m => exporting to image                                                     0.6s\n",
      " => => exporting layers                                                    0.6s\n",
      "\u001b[?25h\u001b[1A\u001b[1A\u001b[1A\u001b[1A\u001b[1A\u001b[1A\u001b[1A\u001b[1A\u001b[1A\u001b[1A\u001b[1A\u001b[1A\u001b[1A\u001b[1A\u001b[1A\u001b[1A\u001b[1A\u001b[1A\u001b[0G\u001b[?25l[+] Building 1.9s (12/13)                                        docker:default\n",
      "\u001b[34m => [internal] load build definition from Dockerfile                       0.0s\n",
      "\u001b[0m\u001b[34m => => transferring dockerfile: 446B                                       0.0s\n",
      "\u001b[0m\u001b[34m => [internal] load metadata for docker.io/agrigorev/zoomcamp-model:mlops  0.8s\n",
      "\u001b[0m\u001b[34m => [internal] load .dockerignore                                          0.0s\n",
      "\u001b[0m\u001b[34m => => transferring context: 2B                                            0.0s\n",
      "\u001b[0m\u001b[34m => [1/8] FROM docker.io/agrigorev/zoomcamp-model:mlops-2024-3.10.13-slim  0.0s\n",
      "\u001b[0m\u001b[34m => [internal] load build context                                          0.0s\n",
      "\u001b[0m\u001b[34m => => transferring context: 1.90kB                                        0.0s\n",
      "\u001b[0m\u001b[34m => CACHED [2/8] RUN pip install -U pip                                    0.0s\n",
      "\u001b[0m\u001b[34m => CACHED [3/8] RUN pip install uv                                        0.0s\n",
      "\u001b[0m\u001b[34m => CACHED [4/8] WORKDIR /app                                              0.0s\n",
      "\u001b[0m\u001b[34m => CACHED [5/8] COPY [requirements.txt, ./]                               0.0s\n",
      "\u001b[0m\u001b[34m => CACHED [6/8] RUN uv pip install --system -r requirements.txt           0.0s\n",
      "\u001b[0m\u001b[34m => [7/8] COPY [src/scoring.py, ./]                                        0.0s\n",
      "\u001b[0m\u001b[34m => [8/8] RUN mkdir -p output                                              0.3s\n",
      "\u001b[0m => exporting to image                                                     0.8s\n",
      " => => exporting layers                                                    0.8s\n",
      "\u001b[?25h\u001b[1A\u001b[1A\u001b[1A\u001b[1A\u001b[1A\u001b[1A\u001b[1A\u001b[1A\u001b[1A\u001b[1A\u001b[1A\u001b[1A\u001b[1A\u001b[1A\u001b[1A\u001b[1A\u001b[1A\u001b[1A\u001b[0G\u001b[?25l[+] Building 2.0s (12/13)                                        docker:default\n",
      "\u001b[34m => [internal] load build definition from Dockerfile                       0.0s\n",
      "\u001b[0m\u001b[34m => => transferring dockerfile: 446B                                       0.0s\n",
      "\u001b[0m\u001b[34m => [internal] load metadata for docker.io/agrigorev/zoomcamp-model:mlops  0.8s\n",
      "\u001b[0m\u001b[34m => [internal] load .dockerignore                                          0.0s\n",
      "\u001b[0m\u001b[34m => => transferring context: 2B                                            0.0s\n",
      "\u001b[0m\u001b[34m => [1/8] FROM docker.io/agrigorev/zoomcamp-model:mlops-2024-3.10.13-slim  0.0s\n",
      "\u001b[0m\u001b[34m => [internal] load build context                                          0.0s\n",
      "\u001b[0m\u001b[34m => => transferring context: 1.90kB                                        0.0s\n",
      "\u001b[0m\u001b[34m => CACHED [2/8] RUN pip install -U pip                                    0.0s\n",
      "\u001b[0m\u001b[34m => CACHED [3/8] RUN pip install uv                                        0.0s\n",
      "\u001b[0m\u001b[34m => CACHED [4/8] WORKDIR /app                                              0.0s\n",
      "\u001b[0m\u001b[34m => CACHED [5/8] COPY [requirements.txt, ./]                               0.0s\n",
      "\u001b[0m\u001b[34m => CACHED [6/8] RUN uv pip install --system -r requirements.txt           0.0s\n",
      "\u001b[0m\u001b[34m => [7/8] COPY [src/scoring.py, ./]                                        0.0s\n",
      "\u001b[0m\u001b[34m => [8/8] RUN mkdir -p output                                              0.3s\n",
      "\u001b[0m => exporting to image                                                     0.9s\n",
      " => => exporting layers                                                    0.9s\n",
      "\u001b[?25h\u001b[1A\u001b[1A\u001b[1A\u001b[1A\u001b[1A\u001b[1A\u001b[1A\u001b[1A\u001b[1A\u001b[1A\u001b[1A\u001b[1A\u001b[1A\u001b[1A\u001b[1A\u001b[1A\u001b[1A\u001b[1A\u001b[0G\u001b[?25l[+] Building 2.2s (12/13)                                        docker:default\n",
      "\u001b[34m => [internal] load build definition from Dockerfile                       0.0s\n",
      "\u001b[0m\u001b[34m => => transferring dockerfile: 446B                                       0.0s\n",
      "\u001b[0m\u001b[34m => [internal] load metadata for docker.io/agrigorev/zoomcamp-model:mlops  0.8s\n",
      "\u001b[0m\u001b[34m => [internal] load .dockerignore                                          0.0s\n",
      "\u001b[0m\u001b[34m => => transferring context: 2B                                            0.0s\n",
      "\u001b[0m\u001b[34m => [1/8] FROM docker.io/agrigorev/zoomcamp-model:mlops-2024-3.10.13-slim  0.0s\n",
      "\u001b[0m\u001b[34m => [internal] load build context                                          0.0s\n",
      "\u001b[0m\u001b[34m => => transferring context: 1.90kB                                        0.0s\n",
      "\u001b[0m\u001b[34m => CACHED [2/8] RUN pip install -U pip                                    0.0s\n",
      "\u001b[0m\u001b[34m => CACHED [3/8] RUN pip install uv                                        0.0s\n",
      "\u001b[0m\u001b[34m => CACHED [4/8] WORKDIR /app                                              0.0s\n",
      "\u001b[0m\u001b[34m => CACHED [5/8] COPY [requirements.txt, ./]                               0.0s\n",
      "\u001b[0m\u001b[34m => CACHED [6/8] RUN uv pip install --system -r requirements.txt           0.0s\n",
      "\u001b[0m\u001b[34m => [7/8] COPY [src/scoring.py, ./]                                        0.0s\n",
      "\u001b[0m\u001b[34m => [8/8] RUN mkdir -p output                                              0.3s\n",
      "\u001b[0m => exporting to image                                                     1.1s\n",
      " => => exporting layers                                                    1.1s\n",
      "\u001b[?25h\u001b[1A\u001b[1A\u001b[1A\u001b[1A\u001b[1A\u001b[1A\u001b[1A\u001b[1A\u001b[1A\u001b[1A\u001b[1A\u001b[1A\u001b[1A\u001b[1A\u001b[1A\u001b[1A\u001b[1A\u001b[1A\u001b[0G\u001b[?25l[+] Building 2.3s (12/13)                                        docker:default\n",
      "\u001b[34m => [internal] load build definition from Dockerfile                       0.0s\n",
      "\u001b[0m\u001b[34m => => transferring dockerfile: 446B                                       0.0s\n",
      "\u001b[0m\u001b[34m => [internal] load metadata for docker.io/agrigorev/zoomcamp-model:mlops  0.8s\n",
      "\u001b[0m\u001b[34m => [internal] load .dockerignore                                          0.0s\n",
      "\u001b[0m\u001b[34m => => transferring context: 2B                                            0.0s\n",
      "\u001b[0m\u001b[34m => [1/8] FROM docker.io/agrigorev/zoomcamp-model:mlops-2024-3.10.13-slim  0.0s\n",
      "\u001b[0m\u001b[34m => [internal] load build context                                          0.0s\n",
      "\u001b[0m\u001b[34m => => transferring context: 1.90kB                                        0.0s\n",
      "\u001b[0m\u001b[34m => CACHED [2/8] RUN pip install -U pip                                    0.0s\n",
      "\u001b[0m\u001b[34m => CACHED [3/8] RUN pip install uv                                        0.0s\n",
      "\u001b[0m\u001b[34m => CACHED [4/8] WORKDIR /app                                              0.0s\n",
      "\u001b[0m\u001b[34m => CACHED [5/8] COPY [requirements.txt, ./]                               0.0s\n",
      "\u001b[0m\u001b[34m => CACHED [6/8] RUN uv pip install --system -r requirements.txt           0.0s\n",
      "\u001b[0m\u001b[34m => [7/8] COPY [src/scoring.py, ./]                                        0.0s\n",
      "\u001b[0m\u001b[34m => [8/8] RUN mkdir -p output                                              0.3s\n",
      "\u001b[0m => exporting to image                                                     1.2s\n",
      " => => exporting layers                                                    1.2s\n",
      "\u001b[?25h\u001b[1A\u001b[1A\u001b[1A\u001b[1A\u001b[1A\u001b[1A\u001b[1A\u001b[1A\u001b[1A\u001b[1A\u001b[1A\u001b[1A\u001b[1A\u001b[1A\u001b[1A\u001b[1A\u001b[1A\u001b[1A\u001b[0G\u001b[?25l[+] Building 2.5s (12/13)                                        docker:default\n",
      "\u001b[34m => [internal] load build definition from Dockerfile                       0.0s\n",
      "\u001b[0m\u001b[34m => => transferring dockerfile: 446B                                       0.0s\n",
      "\u001b[0m\u001b[34m => [internal] load metadata for docker.io/agrigorev/zoomcamp-model:mlops  0.8s\n",
      "\u001b[0m\u001b[34m => [internal] load .dockerignore                                          0.0s\n",
      "\u001b[0m\u001b[34m => => transferring context: 2B                                            0.0s\n",
      "\u001b[0m\u001b[34m => [1/8] FROM docker.io/agrigorev/zoomcamp-model:mlops-2024-3.10.13-slim  0.0s\n",
      "\u001b[0m\u001b[34m => [internal] load build context                                          0.0s\n",
      "\u001b[0m\u001b[34m => => transferring context: 1.90kB                                        0.0s\n",
      "\u001b[0m\u001b[34m => CACHED [2/8] RUN pip install -U pip                                    0.0s\n",
      "\u001b[0m\u001b[34m => CACHED [3/8] RUN pip install uv                                        0.0s\n",
      "\u001b[0m\u001b[34m => CACHED [4/8] WORKDIR /app                                              0.0s\n",
      "\u001b[0m\u001b[34m => CACHED [5/8] COPY [requirements.txt, ./]                               0.0s\n",
      "\u001b[0m\u001b[34m => CACHED [6/8] RUN uv pip install --system -r requirements.txt           0.0s\n",
      "\u001b[0m\u001b[34m => [7/8] COPY [src/scoring.py, ./]                                        0.0s\n",
      "\u001b[0m\u001b[34m => [8/8] RUN mkdir -p output                                              0.3s\n",
      "\u001b[0m => exporting to image                                                     1.4s\n",
      " => => exporting layers                                                    1.4s\n",
      "\u001b[?25h\u001b[1A\u001b[1A\u001b[1A\u001b[1A\u001b[1A\u001b[1A\u001b[1A\u001b[1A\u001b[1A\u001b[1A\u001b[1A\u001b[1A\u001b[1A\u001b[1A\u001b[1A\u001b[1A\u001b[1A\u001b[1A\u001b[0G\u001b[?25l[+] Building 2.6s (12/13)                                        docker:default\n",
      "\u001b[34m => [internal] load build definition from Dockerfile                       0.0s\n",
      "\u001b[0m\u001b[34m => => transferring dockerfile: 446B                                       0.0s\n",
      "\u001b[0m\u001b[34m => [internal] load metadata for docker.io/agrigorev/zoomcamp-model:mlops  0.8s\n",
      "\u001b[0m\u001b[34m => [internal] load .dockerignore                                          0.0s\n",
      "\u001b[0m\u001b[34m => => transferring context: 2B                                            0.0s\n",
      "\u001b[0m\u001b[34m => [1/8] FROM docker.io/agrigorev/zoomcamp-model:mlops-2024-3.10.13-slim  0.0s\n",
      "\u001b[0m\u001b[34m => [internal] load build context                                          0.0s\n",
      "\u001b[0m\u001b[34m => => transferring context: 1.90kB                                        0.0s\n",
      "\u001b[0m\u001b[34m => CACHED [2/8] RUN pip install -U pip                                    0.0s\n",
      "\u001b[0m\u001b[34m => CACHED [3/8] RUN pip install uv                                        0.0s\n",
      "\u001b[0m\u001b[34m => CACHED [4/8] WORKDIR /app                                              0.0s\n",
      "\u001b[0m\u001b[34m => CACHED [5/8] COPY [requirements.txt, ./]                               0.0s\n",
      "\u001b[0m\u001b[34m => CACHED [6/8] RUN uv pip install --system -r requirements.txt           0.0s\n",
      "\u001b[0m\u001b[34m => [7/8] COPY [src/scoring.py, ./]                                        0.0s\n",
      "\u001b[0m\u001b[34m => [8/8] RUN mkdir -p output                                              0.3s\n",
      "\u001b[0m => exporting to image                                                     1.5s\n",
      " => => exporting layers                                                    1.5s\n",
      "\u001b[?25h\u001b[1A\u001b[1A\u001b[1A\u001b[1A\u001b[1A\u001b[1A\u001b[1A\u001b[1A\u001b[1A\u001b[1A\u001b[1A\u001b[1A\u001b[1A\u001b[1A\u001b[1A\u001b[1A\u001b[1A\u001b[1A\u001b[0G\u001b[?25l[+] Building 2.7s (12/13)                                        docker:default\n",
      "\u001b[34m => [internal] load build definition from Dockerfile                       0.0s\n",
      "\u001b[0m\u001b[34m => => transferring dockerfile: 446B                                       0.0s\n",
      "\u001b[0m\u001b[34m => [internal] load metadata for docker.io/agrigorev/zoomcamp-model:mlops  0.8s\n",
      "\u001b[0m\u001b[34m => [internal] load .dockerignore                                          0.0s\n",
      "\u001b[0m\u001b[34m => => transferring context: 2B                                            0.0s\n",
      "\u001b[0m\u001b[34m => [1/8] FROM docker.io/agrigorev/zoomcamp-model:mlops-2024-3.10.13-slim  0.0s\n",
      "\u001b[0m\u001b[34m => [internal] load build context                                          0.0s\n",
      "\u001b[0m\u001b[34m => => transferring context: 1.90kB                                        0.0s\n",
      "\u001b[0m\u001b[34m => CACHED [2/8] RUN pip install -U pip                                    0.0s\n",
      "\u001b[0m\u001b[34m => CACHED [3/8] RUN pip install uv                                        0.0s\n",
      "\u001b[0m\u001b[34m => CACHED [4/8] WORKDIR /app                                              0.0s\n",
      "\u001b[0m\u001b[34m => CACHED [5/8] COPY [requirements.txt, ./]                               0.0s\n",
      "\u001b[0m\u001b[34m => CACHED [6/8] RUN uv pip install --system -r requirements.txt           0.0s\n",
      "\u001b[0m\u001b[34m => [7/8] COPY [src/scoring.py, ./]                                        0.0s\n",
      "\u001b[0m\u001b[34m => [8/8] RUN mkdir -p output                                              0.3s\n",
      "\u001b[0m => exporting to image                                                     1.6s\n",
      "\u001b[34m => => exporting layers                                                    1.6s\n",
      "\u001b[0m\u001b[?25h\u001b[1A\u001b[1A\u001b[1A\u001b[1A\u001b[1A\u001b[1A\u001b[1A\u001b[1A\u001b[1A\u001b[1A\u001b[1A\u001b[1A\u001b[1A\u001b[1A\u001b[1A\u001b[1A\u001b[1A\u001b[1A\u001b[0G\u001b[?25l[+] Building 2.8s (13/13) FINISHED                               docker:default\n",
      "\u001b[34m => [internal] load build definition from Dockerfile                       0.0s\n",
      "\u001b[0m\u001b[34m => => transferring dockerfile: 446B                                       0.0s\n",
      "\u001b[0m\u001b[34m => [internal] load metadata for docker.io/agrigorev/zoomcamp-model:mlops  0.8s\n",
      "\u001b[0m\u001b[34m => [internal] load .dockerignore                                          0.0s\n",
      "\u001b[0m\u001b[34m => => transferring context: 2B                                            0.0s\n",
      "\u001b[0m\u001b[34m => [1/8] FROM docker.io/agrigorev/zoomcamp-model:mlops-2024-3.10.13-slim  0.0s\n",
      "\u001b[0m\u001b[34m => [internal] load build context                                          0.0s\n",
      "\u001b[0m\u001b[34m => => transferring context: 1.90kB                                        0.0s\n",
      "\u001b[0m\u001b[34m => CACHED [2/8] RUN pip install -U pip                                    0.0s\n",
      "\u001b[0m\u001b[34m => CACHED [3/8] RUN pip install uv                                        0.0s\n",
      "\u001b[0m\u001b[34m => CACHED [4/8] WORKDIR /app                                              0.0s\n",
      "\u001b[0m\u001b[34m => CACHED [5/8] COPY [requirements.txt, ./]                               0.0s\n",
      "\u001b[0m\u001b[34m => CACHED [6/8] RUN uv pip install --system -r requirements.txt           0.0s\n",
      "\u001b[0m\u001b[34m => [7/8] COPY [src/scoring.py, ./]                                        0.0s\n",
      "\u001b[0m\u001b[34m => [8/8] RUN mkdir -p output                                              0.3s\n",
      "\u001b[0m\u001b[34m => exporting to image                                                     1.6s\n",
      "\u001b[0m\u001b[34m => => exporting layers                                                    1.6s\n",
      "\u001b[0m\u001b[34m => => writing image sha256:29bb2fa010ceff8d11eba1334861a16bee81cae2abe53  0.0s\n",
      "\u001b[0m\u001b[34m => => naming to docker.io/library/taxi-duration-prediction                0.0s\n",
      "\u001b[0m\u001b[?25h"
     ]
    }
   ],
   "source": [
    "# Docker image with the fixed Dockerfile\n",
    "!docker build -t taxi-duration-prediction ."
   ]
  },
  {
   "cell_type": "code",
   "execution_count": 9,
   "id": "920dfd08",
   "metadata": {},
   "outputs": [
    {
     "name": "stdout",
     "output_type": "stream",
     "text": [
      "The mean predicted duration is 0.189 minutes\n"
     ]
    }
   ],
   "source": [
    "# Run the container\n",
    "!docker run --rm taxi-duration-prediction"
   ]
  }
 ],
 "metadata": {
  "kernelspec": {
   "display_name": "Python 3",
   "language": "python",
   "name": "python3"
  },
  "language_info": {
   "codemirror_mode": {
    "name": "ipython",
    "version": 3
   },
   "file_extension": ".py",
   "mimetype": "text/x-python",
   "name": "python",
   "nbconvert_exporter": "python",
   "pygments_lexer": "ipython3",
   "version": "3.9.23"
  }
 },
 "nbformat": 4,
 "nbformat_minor": 5
}
