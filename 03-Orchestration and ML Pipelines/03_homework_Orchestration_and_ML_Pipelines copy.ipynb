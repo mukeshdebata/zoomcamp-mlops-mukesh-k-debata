{
 "cells": [
  {
   "cell_type": "markdown",
   "id": "abd4dc1c",
   "metadata": {},
   "source": [
    "#sqlite is used to validate models and github code spaces for the runs"
   ]
  },
  {
   "cell_type": "markdown",
   "id": "d14c0bc7",
   "metadata": {},
   "source": [
    "Q. Creating a pipeline and records"
   ]
  },
  {
   "cell_type": "code",
   "execution_count": 6,
   "id": "de0431ee",
   "metadata": {},
   "outputs": [
    {
     "name": "stdout",
     "output_type": "stream",
     "text": [
      "Number of records: 3403766\n"
     ]
    }
   ],
   "source": [
    "import pandas as pd\n",
    "\n",
    "URL = \"https://d37ci6vzurychx.cloudfront.net/trip-data/yellow_tripdata_2023-03.parquet\"\n",
    "df = pd.read_parquet(URL)\n",
    "\n",
    "print(f\"Number of records: {len(df)}\")"
   ]
  },
  {
   "cell_type": "markdown",
   "id": "72dcdbce",
   "metadata": {},
   "source": [
    "#Question 4. Data preparation"
   ]
  },
  {
   "cell_type": "code",
   "execution_count": 7,
   "id": "7b3761fa",
   "metadata": {},
   "outputs": [
    {
     "name": "stdout",
     "output_type": "stream",
     "text": [
      "Filtered records: 3316216\n"
     ]
    }
   ],
   "source": [
    "df.tpep_dropoff_datetime = pd.to_datetime(df.tpep_dropoff_datetime)\n",
    "df.tpep_pickup_datetime = pd.to_datetime(df.tpep_pickup_datetime)\n",
    "\n",
    "df['duration'] = (df.tpep_dropoff_datetime - df.tpep_pickup_datetime).dt.total_seconds() / 60\n",
    "df = df[(df.duration >= 1) & (df.duration <= 60)]\n",
    "\n",
    "df[['PULocationID', 'DOLocationID']] = df[['PULocationID', 'DOLocationID']].astype(str)\n",
    "\n",
    "print(f\"Filtered records: {len(df)}\")"
   ]
  },
  {
   "cell_type": "markdown",
   "id": "cea23e25",
   "metadata": {},
   "source": [
    "#Question 5. Train a model "
   ]
  },
  {
   "cell_type": "code",
   "execution_count": 8,
   "id": "ae1b327b",
   "metadata": {},
   "outputs": [
    {
     "name": "stdout",
     "output_type": "stream",
     "text": [
      "Model intercept: 24.77\n"
     ]
    }
   ],
   "source": [
    "from sklearn.feature_extraction import DictVectorizer\n",
    "from sklearn.linear_model import LinearRegression\n",
    "\n",
    "categorical = ['PULocationID', 'DOLocationID']\n",
    "train_dicts = df[categorical].to_dict(orient='records')\n",
    "\n",
    "dv = DictVectorizer()\n",
    "X_train = dv.fit_transform(train_dicts)\n",
    "y_train = df['duration'].values\n",
    "\n",
    "model = LinearRegression()\n",
    "model.fit(X_train, y_train)\n",
    "\n",
    "print(f\"Model intercept: {round(model.intercept_, 2)}\")"
   ]
  },
  {
   "cell_type": "markdown",
   "id": "f0b733f5",
   "metadata": {},
   "source": [
    "#Question 6. MLFlow "
   ]
  },
  {
   "cell_type": "code",
   "execution_count": 1,
   "id": "afc2bfbb",
   "metadata": {},
   "outputs": [
    {
     "name": "stderr",
     "output_type": "stream",
     "text": [
      "2025/06/30 08:43:18 WARNING mlflow.models.model: `artifact_path` is deprecated. Please use `name` instead.\n",
      "\u001b[31m2025/06/30 08:43:22 WARNING mlflow.models.model: Model logged without a signature and input example. Please set `input_example` parameter when logging the model to auto infer the model signature.\u001b[0m\n",
      "Registered model 'lin_reg_model_hw3' already exists. Creating a new version of this model...\n",
      "2025/06/30 08:43:22 INFO mlflow.store.model_registry.abstract_store: Waiting up to 300 seconds for model version to finish creation. Model name: lin_reg_model_hw3, version 2\n",
      "Created version '2' of model 'lin_reg_model_hw3'.\n"
     ]
    },
    {
     "name": "stdout",
     "output_type": "stream",
     "text": [
      "✅ Model logged with train_score: 0.40810086281558566, fit_intercept: True\n",
      "🏃 View run zealous-hog-301 at: http://localhost:5000/#/experiments/1/runs/f78d100da94648e0850985f665259d12\n",
      "🧪 View experiment at: http://localhost:5000/#/experiments/1\n"
     ]
    }
   ],
   "source": [
    "import mlflow\n",
    "import mlflow.sklearn\n",
    "from sklearn.feature_extraction import DictVectorizer\n",
    "from sklearn.linear_model import LinearRegression\n",
    "import pickle\n",
    "import pandas as pd\n",
    "\n",
    "# Load and prepare data\n",
    "df = pd.read_parquet(\"https://d37ci6vzurychx.cloudfront.net/trip-data/yellow_tripdata_2023-03.parquet\")\n",
    "df.tpep_dropoff_datetime = pd.to_datetime(df.tpep_dropoff_datetime)\n",
    "df.tpep_pickup_datetime = pd.to_datetime(df.tpep_pickup_datetime)\n",
    "df['duration'] = (df.tpep_dropoff_datetime - df.tpep_pickup_datetime).dt.total_seconds() / 60\n",
    "df = df[(df.duration >= 1) & (df.duration <= 60)]\n",
    "df[['PULocationID', 'DOLocationID']] = df[['PULocationID', 'DOLocationID']].astype(str)\n",
    "\n",
    "# Features and labels\n",
    "categorical = ['PULocationID', 'DOLocationID']\n",
    "train_dicts = df[categorical].to_dict(orient='records')\n",
    "dv = DictVectorizer()\n",
    "X_train = dv.fit_transform(train_dicts)\n",
    "y_train = df['duration'].values\n",
    "\n",
    "# Train model\n",
    "model = LinearRegression()\n",
    "model.fit(X_train, y_train)\n",
    "\n",
    "# MLflow tracking setup\n",
    "mlflow.set_tracking_uri(\"http://localhost:5000\")\n",
    "mlflow.set_experiment(\"nyc-taxi-experiment\")\n",
    "\n",
    "with mlflow.start_run():\n",
    "    # Log parameters\n",
    "    mlflow.log_param(\"fit_intercept\", model.fit_intercept)\n",
    "    mlflow.log_param(\"normalize\", False)  # Example of additional parameters\n",
    "\n",
    "    # Log a metric\n",
    "    train_score = model.score(X_train, y_train)\n",
    "    mlflow.log_metric(\"train_score\", train_score)\n",
    "\n",
    "    # Log the model\n",
    "    mlflow.sklearn.log_model(model, \"model\", registered_model_name=\"lin_reg_model_hw3\")\n",
    "\n",
    "    # Log DictVectorizer as artifact\n",
    "    with open(\"dv.pkl\", \"wb\") as f_out:\n",
    "        pickle.dump(dv, f_out)\n",
    "    mlflow.log_artifact(\"dv.pkl\")\n",
    "\n",
    "    print(f\"✅ Model logged with train_score: {train_score}, fit_intercept: {model.fit_intercept}\")"
   ]
  }
 ],
 "metadata": {
  "kernelspec": {
   "display_name": "Python 3",
   "language": "python",
   "name": "python3"
  },
  "language_info": {
   "codemirror_mode": {
    "name": "ipython",
    "version": 3
   },
   "file_extension": ".py",
   "mimetype": "text/x-python",
   "name": "python",
   "nbconvert_exporter": "python",
   "pygments_lexer": "ipython3",
   "version": "3.9.23"
  }
 },
 "nbformat": 4,
 "nbformat_minor": 5
}
